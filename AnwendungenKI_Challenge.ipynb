{
 "cells": [
  {
   "cell_type": "markdown",
   "metadata": {},
   "source": [
    "# ANWENDUNGEN DER KI CHALLENGE"
   ]
  },
  {
   "cell_type": "markdown",
   "metadata": {},
   "source": [
    "Vorgehensweise:\n",
    "1. TFIDF verwenden um relevante Wörter aus dem Text zu extrahieren\n",
    "2. Häufige, aber irrelevante/neutrale Wörter entfernen\n",
    "3. Daten klassifizieren und zu einem mehrdimensionalen Feld aus klassifizierten Daten zusammenfassen\n",
    "4. Multinomialer Naiver Bayes trainieren\n",
    "5. Testdaten in trainiertes Modell geben und Resultat auswerten"
   ]
  },
  {
   "cell_type": "code",
   "execution_count": 48,
   "metadata": {
    "collapsed": true
   },
   "outputs": [],
   "source": [
    "import os\n",
    "import numpy as np\n",
    "from sklearn.naive_bayes import MultinomialNB\n",
    "from collections import Counter"
   ]
  },
  {
   "cell_type": "code",
   "execution_count": 49,
   "metadata": {},
   "outputs": [],
   "source": [
    "def getExtractedData(data_path):\n",
    "    # Get file and read all words in it\n",
    "    file = open(data_path, 'r')\n",
    "    words_list = file.read().split()\n",
    "    \n",
    "    # Count words and create dictionary (set of words)\n",
    "    dictionary = Counter(words_list)\n",
    "    # Clean words set, remove neutral and non-relevant words\n",
    "    del dictionary['the']\n",
    "    del dictionary['and']\n",
    "    del dictionary['a']\n",
    "    del dictionary['that']\n",
    "    del dictionary['this']\n",
    "    #TODO: use TFIDF to find out the files which are most_common releative to number of words / Currently: Bag of words\n",
    "    dictionary = dictionary.most_common(700) \n",
    "    #print(dictionary)\n",
    "    return words_list"
   ]
  },
  {
   "cell_type": "code",
   "execution_count": null,
   "metadata": {},
   "outputs": [],
   "source": [
    "################# MAIN FILE ###########################\n",
    "data_path_neg = 'C:\\\\Users\\\\Florian\\\\Desktop\\\\Programmierprojekt Python\\\\AppliedKI\\\\test.txt'\n",
    "data_path_pos = 'C:\\\\Users\\\\Florian\\\\Desktop\\\\Programmierprojekt Python\\\\AppliedKI\\\\train-pos.txt'\n",
    "data_path_test = 'C:\\\\Users\\\\Florian\\\\Desktop\\\\Programmierprojekt Python\\\\AppliedKI\\\\train-pos.txt'\n",
    "\n",
    "train_data_neg = getExtractedData(data_path_neg)\n",
    "train_data_pos = getExtractedData(data_path_pos)\n",
    "test_data = getExtractedData(data_path_test)\n",
    "\n",
    "# Concatenate to list including all labelled test data\n",
    "pos_class = np.array([train_data_pos, np.ones(len(train_data_pos))]).transpose()\n",
    "neg_class = np.array([train_data_neg, np.zeros(len(train_data_neg))]).transpose()\n",
    "train_class = list(np.concatenate((pos_class, neg_class), axis=0))\n",
    "print(train_class)\n",
    "# Train the classifier with the train data\n",
    "classifier = MultinomialNB().fit() \n"
   ]
  },
  {
   "cell_type": "code",
   "execution_count": null,
   "metadata": {
    "collapsed": true
   },
   "outputs": [],
   "source": []
  }
 ],
 "metadata": {
  "kernelspec": {
   "display_name": "Python 3",
   "language": "python",
   "name": "python3"
  },
  "language_info": {
   "codemirror_mode": {
    "name": "ipython",
    "version": 3
   },
   "file_extension": ".py",
   "mimetype": "text/x-python",
   "name": "python",
   "nbconvert_exporter": "python",
   "pygments_lexer": "ipython3",
   "version": "3.6.3"
  }
 },
 "nbformat": 4,
 "nbformat_minor": 2
}
