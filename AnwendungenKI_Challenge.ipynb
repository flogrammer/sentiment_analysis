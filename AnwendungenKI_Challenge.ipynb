{
 "cells": [
  {
   "cell_type": "markdown",
   "metadata": {},
   "source": [
    "# ANWENDUNGEN DER KI CHALLENGE"
   ]
  },
  {
   "cell_type": "markdown",
   "metadata": {},
   "source": [
    "Vorgehensweise:\n",
    "1. TFIDF verwenden um relevante Wörter aus dem Text zu extrahieren\n",
    "2. Häufige, aber irrelevante/neutrale Wörter entfernen\n",
    "3. Daten klassifizieren und zu einem mehrdimensionalen Feld aus klassifizierten Daten zusammenfassen\n",
    "4. Multinomialer Naiver Bayes trainieren\n",
    "5. Testdaten in trainiertes Modell geben und Resultat auswerten"
   ]
  },
  {
   "cell_type": "code",
   "execution_count": 111,
   "metadata": {
    "collapsed": true
   },
   "outputs": [],
   "source": [
    "import os\n",
    "import numpy as np\n",
    "import random as rd\n",
    "from sklearn.naive_bayes import MultinomialNB\n",
    "from sklearn.feature_extraction.text import TfidfTransformer\n",
    "from sklearn.feature_extraction.text import CountVectorizer\n",
    "import scipy.sparse as sp\n",
    "from sklearn.metrics import accuracy_score\n",
    "from collections import Counter"
   ]
  },
  {
   "cell_type": "code",
   "execution_count": 112,
   "metadata": {
    "collapsed": true
   },
   "outputs": [],
   "source": [
    "def getExtractedData(data_path):\n",
    "    # Get file and read all words in it\n",
    "    file = open(data_path, 'r')\n",
    "    words_list = file.read().split()\n",
    "    return words_list"
   ]
  },
  {
   "cell_type": "code",
   "execution_count": 113,
   "metadata": {
    "collapsed": true
   },
   "outputs": [],
   "source": [
    "def labelData(data, label):\n",
    "    data_labels = []\n",
    "    for i in data:\n",
    "        data_labels.append(label)\n",
    "    return data_labels"
   ]
  },
  {
   "cell_type": "code",
   "execution_count": null,
   "metadata": {},
   "outputs": [],
   "source": [
    "################################################\n",
    "# Paths to data\n",
    "data_path_neg = 'C:\\\\Users\\\\Florian\\\\Desktop\\\\Programmierprojekt Python\\\\AppliedKI\\\\test.txt'\n",
    "data_path_pos = 'C:\\\\Users\\\\Florian\\\\Desktop\\\\Programmierprojekt Python\\\\AppliedKI\\\\train-pos.txt'\n",
    "data_path_test = 'C:\\\\Users\\\\Florian\\\\Desktop\\\\Programmierprojekt Python\\\\AppliedKI\\\\train-pos.txt'\n",
    "\n",
    "# Extract the words from the files\n",
    "train_data = getExtractedData(data_path_neg) + getExtractedData(data_path_pos)\n",
    "test_data = getExtractedData(data_path_test)\n",
    "test_data = ['bad', 'horrible', 'fuck','sad', 'murder']\n",
    "\n",
    "# Label the data according to occurance\n",
    "train_data_neg_lab = labelData(train_data_neg, 'negative')\n",
    "train_data_pos_lab = labelData(train_data_pos, 'positive')\n",
    "Y_train = train_data_neg_lab + train_data_pos_lab\n",
    "\n",
    "# Shuffle the data in the same order for both lists\n",
    "\n",
    "shuffle_list = list(zip(train_data, Y_train))\n",
    "rd.shuffle(shuffle_list)\n",
    "test_data, Y_train = zip(*shuffle_list)"
   ]
  },
  {
   "cell_type": "code",
   "execution_count": null,
   "metadata": {},
   "outputs": [],
   "source": [
    "# Use count vectorizer to convert collection of text to matrix of token counts\n",
    "vectorizer = CountVectorizer(analyzer='word')\n",
    "vector_train = vectorizer.fit_transform(train_data)\n",
    "vector_test = vectorizer.transform(test_data)\n",
    "\n",
    "#Transform occurences to frequencies\n",
    "tf_transformer = TfidfTransformer(use_idf=False)\n",
    "X_train = tf_transformer.fit_transform(vector_train)\n",
    "X_test = tf_transformer.transform(vector_test)\n",
    "\n",
    "# Train the model \n",
    "clf = MultinomialNB().fit(X_train, Y_train)\n",
    "y_pred = clf.predict(X_train)\n",
    "print(accuracy_score(Y_train, y_pred))\n"
   ]
  },
  {
   "cell_type": "code",
   "execution_count": 110,
   "metadata": {},
   "outputs": [
    {
     "name": "stdout",
     "output_type": "stream",
     "text": [
      "The input is 0.6 positive and 0.4 negative.\n"
     ]
    }
   ],
   "source": [
    "# Predict the test data\n",
    "y_pred = clf.predict(X_test)\n",
    "positives = np.count_nonzero(y_pred == 'positive')\n",
    "negatives = np.count_nonzero(y_pred == 'negative')\n",
    "\n",
    "print(\"The input is \" +str(round((positives/(positives + negatives)),3))+ \" positive and \" + str(round((negatives/(positives + negatives)),3)) + \" negative.\")\n",
    "\n"
   ]
  },
  {
   "cell_type": "code",
   "execution_count": null,
   "metadata": {
    "collapsed": true
   },
   "outputs": [],
   "source": []
  }
 ],
 "metadata": {
  "kernelspec": {
   "display_name": "Python 3",
   "language": "python",
   "name": "python3"
  },
  "language_info": {
   "codemirror_mode": {
    "name": "ipython",
    "version": 3
   },
   "file_extension": ".py",
   "mimetype": "text/x-python",
   "name": "python",
   "nbconvert_exporter": "python",
   "pygments_lexer": "ipython3",
   "version": "3.6.3"
  }
 },
 "nbformat": 4,
 "nbformat_minor": 2
}
